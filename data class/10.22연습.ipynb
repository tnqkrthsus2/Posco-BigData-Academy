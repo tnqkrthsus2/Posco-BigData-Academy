{
 "cells": [
  {
   "cell_type": "code",
   "execution_count": 9,
   "id": "a3dfeccb",
   "metadata": {},
   "outputs": [
    {
     "name": "stdout",
     "output_type": "stream",
     "text": [
      "78.2\n"
     ]
    }
   ],
   "source": [
    "print((87+90+66+72+76)/5)"
   ]
  },
  {
   "cell_type": "code",
   "execution_count": 26,
   "id": "9e7839a8",
   "metadata": {
    "scrolled": true
   },
   "outputs": [
    {
     "name": "stdout",
     "output_type": "stream",
     "text": [
      "78.2\n"
     ]
    }
   ],
   "source": [
    "score = [87,90,66,72,76]\n",
    "print(sum(score)/len(score))"
   ]
  },
  {
   "cell_type": "code",
   "execution_count": 27,
   "id": "821edf57",
   "metadata": {},
   "outputs": [
    {
     "data": {
      "text/plain": [
       "'Python is fun!'"
      ]
     },
     "execution_count": 27,
     "metadata": {},
     "output_type": "execute_result"
    }
   ],
   "source": [
    "head = \"Python\"\n",
    "tail = \" is fun!\"\n",
    "head + tail"
   ]
  },
  {
   "cell_type": "code",
   "execution_count": 28,
   "id": "8addddf2",
   "metadata": {},
   "outputs": [
    {
     "data": {
      "text/plain": [
       "'PythonPython'"
      ]
     },
     "execution_count": 28,
     "metadata": {},
     "output_type": "execute_result"
    }
   ],
   "source": [
    "a = \"Python\"\n",
    "a * 2"
   ]
  },
  {
   "cell_type": "code",
   "execution_count": 29,
   "id": "488378a4",
   "metadata": {},
   "outputs": [
    {
     "data": {
      "text/plain": [
       "'e'"
      ]
     },
     "execution_count": 29,
     "metadata": {},
     "output_type": "execute_result"
    }
   ],
   "source": [
    "a = \"Life is too short, You need Python\"\n",
    "a[3]"
   ]
  },
  {
   "cell_type": "code",
   "execution_count": 30,
   "id": "3b111c70",
   "metadata": {},
   "outputs": [
    {
     "data": {
      "text/plain": [
       "'Life'"
      ]
     },
     "execution_count": 30,
     "metadata": {},
     "output_type": "execute_result"
    }
   ],
   "source": [
    "a[0:4]"
   ]
  },
  {
   "cell_type": "code",
   "execution_count": 31,
   "id": "6cdfc585",
   "metadata": {},
   "outputs": [],
   "source": [
    "a = \"20010331Rainy\"\n",
    "year = a[:4]\n",
    "day = a[4:8]\n",
    "weather = a[8:]"
   ]
  },
  {
   "cell_type": "code",
   "execution_count": 35,
   "id": "80f6519f",
   "metadata": {},
   "outputs": [
    {
     "name": "stdout",
     "output_type": "stream",
     "text": [
      "weather is Rainy\n"
     ]
    }
   ],
   "source": [
    "print(\"weather is %s\" % weather)"
   ]
  },
  {
   "cell_type": "code",
   "execution_count": 37,
   "id": "b91614f9",
   "metadata": {},
   "outputs": [
    {
     "name": "stdout",
     "output_type": "stream",
     "text": [
      "day is 0331 year is 2001\n"
     ]
    }
   ],
   "source": [
    "print(\"day is {} year is {}\".format(day,year))"
   ]
  },
  {
   "cell_type": "code",
   "execution_count": 39,
   "id": "efa92e2a",
   "metadata": {},
   "outputs": [
    {
     "data": {
      "text/plain": [
       "['Life', 'is', 'short']"
      ]
     },
     "execution_count": 39,
     "metadata": {},
     "output_type": "execute_result"
    }
   ],
   "source": [
    "a = \"Life_is_short\"\n",
    "a.split(\"_\")"
   ]
  },
  {
   "cell_type": "code",
   "execution_count": 41,
   "id": "49f560a9",
   "metadata": {},
   "outputs": [
    {
     "data": {
      "text/plain": [
       "['881120', '1068234']"
      ]
     },
     "execution_count": 41,
     "metadata": {},
     "output_type": "execute_result"
    }
   ],
   "source": [
    "civilNumber = \"881120-1068234\"\n",
    "#연습문제1번\n",
    "civilNumber.split(\"-\")"
   ]
  },
  {
   "cell_type": "code",
   "execution_count": 47,
   "id": "b11a2176",
   "metadata": {},
   "outputs": [
    {
     "data": {
      "text/plain": [
       "'1'"
      ]
     },
     "execution_count": 47,
     "metadata": {},
     "output_type": "execute_result"
    }
   ],
   "source": [
    "#연습문제2번\n",
    "civilNumber.split(\"-\")[1][0]"
   ]
  },
  {
   "cell_type": "code",
   "execution_count": 64,
   "id": "4098ee36",
   "metadata": {},
   "outputs": [
    {
     "data": {
      "text/plain": [
       "[6, 5, 4, 3, 2, 1]"
      ]
     },
     "execution_count": 64,
     "metadata": {},
     "output_type": "execute_result"
    }
   ],
   "source": [
    "ls = [1,3,5,4,2]\n",
    "ls.append(6)\n",
    "ls.sort()\n",
    "ls.reverse()\n",
    "ls"
   ]
  },
  {
   "cell_type": "code",
   "execution_count": 66,
   "id": "288675b6",
   "metadata": {},
   "outputs": [
    {
     "data": {
      "text/plain": [
       "80"
      ]
     },
     "execution_count": 66,
     "metadata": {},
     "output_type": "execute_result"
    }
   ],
   "source": [
    "a = {'국어':90,'수학':80,'영어':70}\n",
    "a.get('수학')"
   ]
  },
  {
   "cell_type": "code",
   "execution_count": 68,
   "id": "3ce0c184",
   "metadata": {},
   "outputs": [
    {
     "data": {
      "text/plain": [
       "80"
      ]
     },
     "execution_count": 68,
     "metadata": {},
     "output_type": "execute_result"
    }
   ],
   "source": [
    "a['수학']"
   ]
  },
  {
   "cell_type": "code",
   "execution_count": 70,
   "id": "2461769f",
   "metadata": {},
   "outputs": [
    {
     "data": {
      "text/plain": [
       "{1, 2, 3}"
      ]
     },
     "execution_count": 70,
     "metadata": {},
     "output_type": "execute_result"
    }
   ],
   "source": [
    "s1 = set([1,2,3])\n",
    "s1"
   ]
  },
  {
   "cell_type": "code",
   "execution_count": 72,
   "id": "c670ecf6",
   "metadata": {},
   "outputs": [
    {
     "data": {
      "text/plain": [
       "set"
      ]
     },
     "execution_count": 72,
     "metadata": {},
     "output_type": "execute_result"
    }
   ],
   "source": [
    "type(s1)"
   ]
  },
  {
   "cell_type": "code",
   "execution_count": 74,
   "id": "9988ea22",
   "metadata": {},
   "outputs": [
    {
     "data": {
      "text/plain": [
       "[1, 2, 3, 4, 5]"
      ]
     },
     "execution_count": 74,
     "metadata": {},
     "output_type": "execute_result"
    }
   ],
   "source": [
    "a = [1,1,1,2,2,3,3,4,5,5,5]\n",
    "list(set(a))"
   ]
  },
  {
   "cell_type": "code",
   "execution_count": 90,
   "id": "a0fff47f",
   "metadata": {},
   "outputs": [
    {
     "name": "stdout",
     "output_type": "stream",
     "text": [
      "166833\n"
     ]
    }
   ],
   "source": [
    "#문제1\n",
    "i = 0\n",
    "sum = 0\n",
    "while i <= 1000:\n",
    "    i = i + 1\n",
    "    if i%3 ==0:\n",
    "        sum = sum + i\n",
    "print(sum)"
   ]
  },
  {
   "cell_type": "code",
   "execution_count": 82,
   "id": "03f47262",
   "metadata": {},
   "outputs": [
    {
     "name": "stdout",
     "output_type": "stream",
     "text": [
      "*\n",
      "**\n",
      "***\n",
      "****\n",
      "*****\n",
      "******\n"
     ]
    }
   ],
   "source": [
    "#문제2\n",
    "i,j = 0,0\n",
    "while i <= 5:\n",
    "    i = i + 1\n",
    "    while j <=5:\n",
    "        j = j + 1\n",
    "        print(\"*\"*j)"
   ]
  },
  {
   "cell_type": "code",
   "execution_count": 92,
   "id": "6d9ecec0",
   "metadata": {},
   "outputs": [
    {
     "name": "stdout",
     "output_type": "stream",
     "text": [
      "79.0\n"
     ]
    }
   ],
   "source": [
    "#문제3\n",
    "score = [70,60,55,75,95,90,80,80,85,100]\n",
    "sum = 0\n",
    "for i in score:\n",
    "    sum = sum + i\n",
    "print(sum/len(score))"
   ]
  },
  {
   "cell_type": "code",
   "execution_count": 221,
   "id": "66ec74da",
   "metadata": {},
   "outputs": [
    {
     "name": "stdout",
     "output_type": "stream",
     "text": [
      "흑돌의 개수 :  17\n",
      "백돌의 개수 :  16\n"
     ]
    }
   ],
   "source": [
    "#문제4\n",
    "stone = [ [0, 0, 0, 0, 0, 0, 0, 0, 0], \\\n",
    "[0, 1, 0, 1, 2, 1, 2, 1, 0], \\\n",
    "[0, 2, 1, 1, 1, 2, 2, 0, 0], \\\n",
    "[0, 0, 2, 2, 2, 1, 0, 2, 0], \\\n",
    "[0, 0, 0, 0, 0, 1, 0, 2, 1], \\\n",
    "[0, 0, 0, 2, 0, 1, 2, 1, 0], \\\n",
    "[0, 0, 0, 2, 1, 0, 1, 1, 0], \\\n",
    "[0, 0, 0, 1, 1, 0, 0, 0, 0], \\\n",
    "[0, 0, 0, 0, 2, 2, 2, 0, 0]]\n",
    "White = 0\n",
    "Black = 0\n",
    "for i in stone:\n",
    "    for j in i:\n",
    "        if j == 2:\n",
    "            White = White + 1\n",
    "        elif j == 1:\n",
    "            Black = Black + 1\n",
    "print('흑돌의 개수 : ',Black)\n",
    "print('백돌의 개수 : ',White)"
   ]
  },
  {
   "cell_type": "code",
   "execution_count": 119,
   "id": "a48f121a",
   "metadata": {},
   "outputs": [
    {
     "name": "stdout",
     "output_type": "stream",
     "text": [
      "＊＊＊＊＊＊＊＊＊\n",
      "＊●＊●○●○●＊\n",
      "＊○●●●○○＊＊\n",
      "＊＊○○○●＊○＊\n",
      "＊＊＊＊＊●＊○●\n",
      "＊＊＊○＊●○●＊\n",
      "＊＊＊○●＊●●＊\n",
      "＊＊＊●●＊＊＊＊\n",
      "＊＊＊＊○○○＊＊\n"
     ]
    }
   ],
   "source": [
    "#문제4-2\n",
    "for i in stone:\n",
    "    for j in i:\n",
    "        if j == 2:\n",
    "            mode = '○'\n",
    "        if j == 1:\n",
    "            mode = '●'\n",
    "        if j == 0:\n",
    "            mode = '＊'\n",
    "        print(mode,end='')\n",
    "    print()"
   ]
  },
  {
   "cell_type": "code",
   "execution_count": 166,
   "id": "0159fc39",
   "metadata": {},
   "outputs": [
    {
     "name": "stdout",
     "output_type": "stream",
     "text": [
      "  1 2 3 4 5 6 7 8 9\n",
      "1＊＊＊＊＊＊＊＊＊\n",
      "2＊●＊●○●○●＊\n",
      "3＊○●●●○○＊＊\n",
      "4＊＊○○○●＊○＊\n",
      "5＊＊＊＊＊●＊○●\n",
      "6＊＊＊○＊●○●＊\n",
      "7＊＊＊○●＊●●＊\n",
      "8＊＊＊●●＊＊＊＊\n",
      "9＊＊＊＊○○○＊＊\n"
     ]
    }
   ],
   "source": [
    "#문제4-3\n",
    "i = 0\n",
    "for i in range(len(stone)):\n",
    "    if i == 0: print(\"  1 2 3 4 5 6 7 8 9\")\n",
    "    print(i+1,end='')\n",
    "    for j in range(len(stone[i])):\n",
    "        if stone[i][j] == 2:\n",
    "            mode = '○'\n",
    "        if stone[i][j] == 1:\n",
    "            mode = '●'\n",
    "        if stone[i][j] == 0:\n",
    "            mode = '＊'\n",
    "        print(mode,end='')\n",
    "    print()"
   ]
  },
  {
   "cell_type": "code",
   "execution_count": 223,
   "id": "9ceb3d2a",
   "metadata": {},
   "outputs": [
    {
     "name": "stdout",
     "output_type": "stream",
     "text": [
      "X축 좌표값을 입력하세요(1~9, 종료시 -1 입력 : -1\n"
     ]
    },
    {
     "ename": "SyntaxError",
     "evalue": "'break' outside loop (1297001926.py, line 14)",
     "output_type": "error",
     "traceback": [
      "\u001b[0;36m  File \u001b[0;32m\"/tmp/ipykernel_9237/1297001926.py\"\u001b[0;36m, line \u001b[0;32m14\u001b[0m\n\u001b[0;31m    break\u001b[0m\n\u001b[0m    ^\u001b[0m\n\u001b[0;31mSyntaxError\u001b[0m\u001b[0;31m:\u001b[0m 'break' outside loop\n"
     ]
    }
   ],
   "source": [
    "#문제4-4\n",
    "stone = [ [0, 0, 0, 0, 0, 0, 0, 0, 0], \\\n",
    "[0, 1, 0, 1, 2, 1, 2, 1, 0], \\\n",
    "[0, 2, 1, 1, 1, 2, 2, 0, 0], \\\n",
    "[0, 0, 2, 2, 2, 1, 0, 2, 0], \\\n",
    "[0, 0, 0, 0, 0, 1, 0, 2, 1], \\\n",
    "[0, 0, 0, 2, 0, 1, 2, 1, 0], \\\n",
    "[0, 0, 0, 2, 1, 0, 1, 1, 0], \\\n",
    "[0, 0, 0, 1, 1, 0, 0, 0, 0], \\\n",
    "[0, 0, 0, 0, 2, 2, 2, 0, 0]]\n",
    "while True:\n",
    "    x = int(input('X축 좌표값을 입력하세요(1~9, 종료시 -1 입력 : '))\n",
    "    if x == -1:\n",
    "        print(\"종료합니다\")\n",
    "        break\n",
    "    y = int(input('Y축 좌표값을 입력하세요(1~9, 종료시 -1 입력 : '))\n",
    "    if y == -1:\n",
    "        print(\"종료합니다\")\n",
    "        break\n",
    "    color = stone[y-1][x-1]\n",
    "    if color == 0: print(\"돌 없음\")\n",
    "    elif color == 1: print(\"흑돌\")\n",
    "    else: print(\"백돌\")"
   ]
  },
  {
   "cell_type": "code",
   "execution_count": 216,
   "id": "c34eb427",
   "metadata": {},
   "outputs": [
    {
     "name": "stdout",
     "output_type": "stream",
     "text": [
      "아이디 : kim, 마일리지 : 15000\n",
      "아이디 : lee, 마일리지 : 7000\n",
      "아이디 : kwon, 마일리지 : 8000\n",
      "아이디 : roro, 마일리지 : 12000\n",
      "아이디 : hwang, 마일리지 : 19000\n"
     ]
    }
   ],
   "source": [
    "#1\n",
    "cust = {'ID':['kim','lee','kwon','roro','hwang'],\n",
    "        'POINT':[15000,7000,8000,12000,19000]}\n",
    "for i in range(len(cust['ID'])):\n",
    "    print('아이디 : {0}, 마일리지 : {1}'.format(cust['ID'][i], cust['POINT'][i]))"
   ]
  },
  {
   "cell_type": "code",
   "execution_count": 214,
   "id": "fa6792a6",
   "metadata": {},
   "outputs": [
    {
     "data": {
      "text/plain": [
       "7000"
      ]
     },
     "execution_count": 214,
     "metadata": {},
     "output_type": "execute_result"
    }
   ],
   "source": [
    "#1-2\n",
    "cust['']\n",
    "for i in range(len(cust['ID'])):\n",
    "    print('아이디 : {0}, 마일리지 : {1}'.format(cust['ID'][i], cust['POINT'][i]))"
   ]
  },
  {
   "cell_type": "code",
   "execution_count": 220,
   "id": "c1769d09",
   "metadata": {},
   "outputs": [
    {
     "data": {
      "text/plain": [
       "15000"
      ]
     },
     "execution_count": 220,
     "metadata": {},
     "output_type": "execute_result"
    }
   ],
   "source": [
    "cust['POINT'][cust['ID']=='lee']"
   ]
  },
  {
   "cell_type": "code",
   "execution_count": 224,
   "id": "41616caa",
   "metadata": {},
   "outputs": [],
   "source": [
    "cctv={\n",
    "\"info\": {\n",
    "\"date\": \"2022-09-25\",\n",
    "\"day\": \"sunday\",\n",
    "\"weather\": \"sunny\"\n",
    "},\n",
    "\"annotations\": [\n",
    "{\n",
    "\"id\": \"Men_Tom\",\n",
    "\"age\": 28,\n",
    "\"top_type\": \"short_sleeve\",\n",
    "\"top_color\": \"yellow\",\n",
    "\"bottom_type\": \"short_pants\",\n",
    "\"bottom_color\": \"black\",\n",
    "},\n",
    "{\n",
    "\"id\": \"Men_Kevin\",\n",
    "\"age\": 17,\n",
    "\"top_type\": \"short_sleeve\",\n",
    "\"top_color\": \"white\",\n",
    "\"bottom_type\": \"long_pants\",\n",
    "\"bottom_color\": \"black\",\n",
    "},\n",
    "{\n",
    "\"id\": \"Men_Harry\",\n",
    "\"age\": 24,\n",
    "\"top_type\": \"shirt\",\n",
    "\"top_color\": \"black\",\n",
    "\"bottom_type\": \"long_pants\",\n",
    "\"bottom_color\": \"white\",\n",
    "},\n",
    "{\n",
    "\"id\": \"Women_Sunny\",\n",
    "\"age\": 20,\n",
    "\"top_type\": \"T-shirt\",\n",
    "\"top_color\": \"white\",\n",
    "\"bottom_type\": \"long_pants\",\n",
    "\"bottom_color\": \"black\",\n",
    "}\n",
    "]\n",
    "}"
   ]
  },
  {
   "cell_type": "code",
   "execution_count": 273,
   "id": "2e4df92b",
   "metadata": {
    "scrolled": true
   },
   "outputs": [
    {
     "name": "stdout",
     "output_type": "stream",
     "text": [
      "{'date': '2022-09-??', 'day': '??day', 'weather': '??'}\n"
     ]
    }
   ],
   "source": [
    "#3-1\n",
    "cctv['info']['date'] = cctv['info']['date'].replace('25','??')\n",
    "cctv['info']['day'] = cctv['info']['day'].replace('sun','??')\n",
    "cctv['info']['weather'] = cctv['info']['weather'].replace('sunny','??')\n",
    "print(cctv['info'])"
   ]
  },
  {
   "cell_type": "code",
   "execution_count": 255,
   "id": "00f8a002",
   "metadata": {},
   "outputs": [
    {
     "name": "stdout",
     "output_type": "stream",
     "text": [
      "22.25\n"
     ]
    }
   ],
   "source": [
    "#3-2-1\n",
    "sum = 0\n",
    "for i in range(len(cctv['annotations'])):\n",
    "    age = cctv['annotations'][i]['age']\n",
    "    sum = sum + age\n",
    "print(sum/len(cctv['annotations']))"
   ]
  },
  {
   "cell_type": "code",
   "execution_count": 314,
   "id": "87dd1ab6",
   "metadata": {},
   "outputs": [
    {
     "name": "stdout",
     "output_type": "stream",
     "text": [
      "['Tom', 'Kevin', 'Harry']\n",
      "['Sunny']\n"
     ]
    }
   ],
   "source": [
    "#3-2-2\n",
    "Men = []\n",
    "Women = []\n",
    "for i in range(len(cctv['annotations'])):\n",
    "    if cctv['annotations'][i]['id'][:3] == 'Men':\n",
    "        name = cctv['annotations'][i]['id']\n",
    "        name = name.replace('Men_','')\n",
    "        Men.append(name)\n",
    "    else:\n",
    "        name = cctv['annotations'][i]['id']\n",
    "        name = name.replace('Women_','')\n",
    "        Women.append(name)\n",
    "print(Men)\n",
    "print(Women)"
   ]
  },
  {
   "cell_type": "code",
   "execution_count": 289,
   "id": "3b88cefc",
   "metadata": {},
   "outputs": [
    {
     "data": {
      "text/plain": [
       "['Men_Tom', 'Men_Kevin', 'Women_Sunny']"
      ]
     },
     "execution_count": 289,
     "metadata": {},
     "output_type": "execute_result"
    }
   ],
   "source": [
    "#3-2-3\n",
    "blackguys = []\n",
    "for i in range(len(cctv['annotations'])):\n",
    "    if cctv['annotations'][i]['bottom_color'] == 'black':\n",
    "        blackguys.append(cctv['annotations'][i]['id'])\n",
    "blackguys"
   ]
  },
  {
   "cell_type": "code",
   "execution_count": 306,
   "id": "946cf3a2",
   "metadata": {},
   "outputs": [
    {
     "name": "stdout",
     "output_type": "stream",
     "text": [
      "Data :  2022-09-??\n",
      "person :  4\n",
      "top_type :  {'T-shirt', 'short_sleeve', 'shirt'}\n",
      "botoom_type :  {'short_pants', 'long_pants'}\n"
     ]
    }
   ],
   "source": [
    "#3-2-4\n",
    "cctv['info']['date']\n",
    "len(cctv['annotations'])\n",
    "tops = []\n",
    "for i in range(len(cctv['annotations'])):\n",
    "    tops.append(cctv['annotations'][i]['top_type'])\n",
    "tops\n",
    "bottoms = []\n",
    "for i in range(len(cctv['annotations'])):\n",
    "    bottoms.append(cctv['annotations'][i]['bottom_type'])\n",
    "bottoms\n",
    "print('Data : ',cctv['info']['date'] )\n",
    "print('person : ', len(cctv['annotations']))\n",
    "print('top_type : ', set(tops))\n",
    "print('botoom_type : ', set(bottoms))"
   ]
  },
  {
   "cell_type": "code",
   "execution_count": 305,
   "id": "22645c95",
   "metadata": {},
   "outputs": [
    {
     "data": {
      "text/plain": [
       "{'long_pants', 'short_pants'}"
      ]
     },
     "execution_count": 305,
     "metadata": {},
     "output_type": "execute_result"
    }
   ],
   "source": [
    "set(bottoms)"
   ]
  }
 ],
 "metadata": {
  "kernelspec": {
   "display_name": "Python 3 (ipykernel)",
   "language": "python",
   "name": "python3"
  },
  "language_info": {
   "codemirror_mode": {
    "name": "ipython",
    "version": 3
   },
   "file_extension": ".py",
   "mimetype": "text/x-python",
   "name": "python",
   "nbconvert_exporter": "python",
   "pygments_lexer": "ipython3",
   "version": "3.9.13"
  }
 },
 "nbformat": 4,
 "nbformat_minor": 5
}
