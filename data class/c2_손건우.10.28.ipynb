{
 "cells": [
  {
   "cell_type": "code",
   "execution_count": 1,
   "id": "0dcb6f74",
   "metadata": {},
   "outputs": [],
   "source": [
    "import pandas as pd"
   ]
  },
  {
   "cell_type": "code",
   "execution_count": 2,
   "id": "08220fa0",
   "metadata": {},
   "outputs": [],
   "source": [
    "from scipy import stats\n",
    "import numpy as np"
   ]
  },
  {
   "cell_type": "markdown",
   "id": "e36f3e9a",
   "metadata": {},
   "source": [
    "실습문제1"
   ]
  },
  {
   "cell_type": "code",
   "execution_count": 3,
   "id": "4603ac21",
   "metadata": {},
   "outputs": [
    {
     "data": {
      "text/html": [
       "<div>\n",
       "<style scoped>\n",
       "    .dataframe tbody tr th:only-of-type {\n",
       "        vertical-align: middle;\n",
       "    }\n",
       "\n",
       "    .dataframe tbody tr th {\n",
       "        vertical-align: top;\n",
       "    }\n",
       "\n",
       "    .dataframe thead th {\n",
       "        text-align: right;\n",
       "    }\n",
       "</style>\n",
       "<table border=\"1\" class=\"dataframe\">\n",
       "  <thead>\n",
       "    <tr style=\"text-align: right;\">\n",
       "      <th></th>\n",
       "      <th>Mat_A</th>\n",
       "      <th>Mat_B</th>\n",
       "      <th>Total</th>\n",
       "      <th>Sub</th>\n",
       "    </tr>\n",
       "  </thead>\n",
       "  <tbody>\n",
       "    <tr>\n",
       "      <th>0</th>\n",
       "      <td>73.4</td>\n",
       "      <td>68.7</td>\n",
       "      <td>73.4</td>\n",
       "      <td>1</td>\n",
       "    </tr>\n",
       "    <tr>\n",
       "      <th>1</th>\n",
       "      <td>77.0</td>\n",
       "      <td>71.4</td>\n",
       "      <td>77.0</td>\n",
       "      <td>1</td>\n",
       "    </tr>\n",
       "    <tr>\n",
       "      <th>2</th>\n",
       "      <td>73.7</td>\n",
       "      <td>69.8</td>\n",
       "      <td>73.7</td>\n",
       "      <td>1</td>\n",
       "    </tr>\n",
       "    <tr>\n",
       "      <th>3</th>\n",
       "      <td>73.3</td>\n",
       "      <td>75.3</td>\n",
       "      <td>73.3</td>\n",
       "      <td>1</td>\n",
       "    </tr>\n",
       "    <tr>\n",
       "      <th>4</th>\n",
       "      <td>73.1</td>\n",
       "      <td>71.3</td>\n",
       "      <td>73.1</td>\n",
       "      <td>1</td>\n",
       "    </tr>\n",
       "  </tbody>\n",
       "</table>\n",
       "</div>"
      ],
      "text/plain": [
       "   Mat_A  Mat_B  Total  Sub\n",
       "0   73.4   68.7   73.4    1\n",
       "1   77.0   71.4   77.0    1\n",
       "2   73.7   69.8   73.7    1\n",
       "3   73.3   75.3   73.3    1\n",
       "4   73.1   71.3   73.1    1"
      ]
     },
     "execution_count": 3,
     "metadata": {},
     "output_type": "execute_result"
    }
   ],
   "source": [
    "#정규성 검정하기\n",
    "df = pd.read_csv('/home/piai/바탕화면/1 Big Data 분석 기초/2sample_t_test.csv')\n",
    "df.head()"
   ]
  },
  {
   "cell_type": "code",
   "execution_count": 4,
   "id": "4f304022",
   "metadata": {},
   "outputs": [],
   "source": [
    "#데이터 프레임 분리하고 결측값 제거\n",
    "Mat_A = df['Mat_A']\n",
    "Mat_B = df['Mat_B']\n",
    "Mat_A.dropna(inplace=True)\n",
    "Mat_B.dropna(inplace=True)"
   ]
  },
  {
   "cell_type": "code",
   "execution_count": 5,
   "id": "a0bff59e",
   "metadata": {},
   "outputs": [
    {
     "name": "stdout",
     "output_type": "stream",
     "text": [
      "p-value:  0.2563020884990692\n"
     ]
    }
   ],
   "source": [
    "#변수 A의 정규성 검정(95% 신뢰수준 사용)\n",
    "s, p = stats.shapiro(Mat_A)\n",
    "print(\"p-value: \",p)\n",
    "#p-value가 0.05보다 작으므로 비정규로 판단"
   ]
  },
  {
   "cell_type": "code",
   "execution_count": 6,
   "id": "8e03ecb3",
   "metadata": {},
   "outputs": [
    {
     "name": "stdout",
     "output_type": "stream",
     "text": [
      "p-value:  0.9169775247573853\n"
     ]
    }
   ],
   "source": [
    "#변수 B의 정규성 검정(95% 신뢰수준 사용)\n",
    "s, p = stats.shapiro(Mat_B)\n",
    "print(\"p-value: \",p)\n",
    "#p-value가 0.05보다 크므로 정규로 판단"
   ]
  },
  {
   "cell_type": "markdown",
   "id": "c2065991",
   "metadata": {},
   "source": [
    "실습문제2"
   ]
  },
  {
   "cell_type": "code",
   "execution_count": 7,
   "id": "79bbadde",
   "metadata": {},
   "outputs": [
    {
     "data": {
      "text/html": [
       "<div>\n",
       "<style scoped>\n",
       "    .dataframe tbody tr th:only-of-type {\n",
       "        vertical-align: middle;\n",
       "    }\n",
       "\n",
       "    .dataframe tbody tr th {\n",
       "        vertical-align: top;\n",
       "    }\n",
       "\n",
       "    .dataframe thead th {\n",
       "        text-align: right;\n",
       "    }\n",
       "</style>\n",
       "<table border=\"1\" class=\"dataframe\">\n",
       "  <thead>\n",
       "    <tr style=\"text-align: right;\">\n",
       "      <th></th>\n",
       "      <th>size</th>\n",
       "    </tr>\n",
       "  </thead>\n",
       "  <tbody>\n",
       "    <tr>\n",
       "      <th>0</th>\n",
       "      <td>18</td>\n",
       "    </tr>\n",
       "    <tr>\n",
       "      <th>1</th>\n",
       "      <td>18</td>\n",
       "    </tr>\n",
       "    <tr>\n",
       "      <th>2</th>\n",
       "      <td>20</td>\n",
       "    </tr>\n",
       "    <tr>\n",
       "      <th>3</th>\n",
       "      <td>21</td>\n",
       "    </tr>\n",
       "    <tr>\n",
       "      <th>4</th>\n",
       "      <td>20</td>\n",
       "    </tr>\n",
       "  </tbody>\n",
       "</table>\n",
       "</div>"
      ],
      "text/plain": [
       "   size\n",
       "0    18\n",
       "1    18\n",
       "2    20\n",
       "3    21\n",
       "4    20"
      ]
     },
     "execution_count": 7,
     "metadata": {},
     "output_type": "execute_result"
    }
   ],
   "source": [
    "#모평균 구간 탐색\n",
    "#데이터프레임 생성\n",
    "df = pd.DataFrame({'size':[18,18,20,21,20,23,19,18,17,21,22,20,20,21,20,19,19,18,17,19]})\n",
    "df.head()"
   ]
  },
  {
   "cell_type": "code",
   "execution_count": 8,
   "id": "bfefdb16",
   "metadata": {},
   "outputs": [
    {
     "name": "stdout",
     "output_type": "stream",
     "text": [
      "신뢰구간:([17.83],[21.17])\n"
     ]
    },
    {
     "name": "stderr",
     "output_type": "stream",
     "text": [
      "/home/piai/anaconda3/lib/python3.9/site-packages/numpy/core/fromnumeric.py:3438: FutureWarning: In a future version, DataFrame.mean(axis=None) will return a scalar mean over the entire DataFrame. To retain the old behavior, use 'frame.mean(axis=0)' or just 'frame.mean()'\n",
      "  return mean(axis=axis, dtype=dtype, out=out, **kwargs)\n"
     ]
    }
   ],
   "source": [
    "#정규분포 구간 측정 함수를 실행한다\n",
    "#조건: 95%의 신뢰구간, 모표준편차: 3.8, n=20\n",
    "lower, upper = stats.norm.interval(0.95,loc=np.mean(df),scale=3.8/np.sqrt(20))\n",
    "print(\"신뢰구간:({},{})\".format(lower.round(2),upper.round(2)))"
   ]
  },
  {
   "cell_type": "markdown",
   "id": "25bc7717",
   "metadata": {},
   "source": [
    "실습문제3"
   ]
  },
  {
   "cell_type": "code",
   "execution_count": 9,
   "id": "89140a82",
   "metadata": {},
   "outputs": [],
   "source": [
    "import scipy"
   ]
  },
  {
   "cell_type": "code",
   "execution_count": 10,
   "id": "146b3ed8",
   "metadata": {
    "scrolled": true
   },
   "outputs": [
    {
     "name": "stdout",
     "output_type": "stream",
     "text": [
      "신뢰구간:([70.6],[72.4])\n"
     ]
    }
   ],
   "source": [
    "#모표준편차를 모르는 경우의 모평균 신뢰구간 측정\n",
    "#조건: 모평균=70, n=20, 표본평균=71.5, 표본표준편차=1.933, 95%의 신뢰구간\n",
    "#데이터프레임 생성\n",
    "df = pd.DataFrame({'data':[73,71,74,69,70,73,70,68,75,72,70,72,73,70,70,72,71,70,75,72]})\n",
    "#정규분포 구간 추정 함수 실행\n",
    "lower, upper = stats.t.interval(0.95,len(df)-1,loc=np.mean(df),scale=scipy.stats.sem(df))\n",
    "print(\"신뢰구간:({},{})\".format(lower.round(2),upper.round(2)))"
   ]
  },
  {
   "cell_type": "markdown",
   "id": "eac6c580",
   "metadata": {},
   "source": [
    "실습문제4"
   ]
  },
  {
   "cell_type": "code",
   "execution_count": 11,
   "id": "cc126f86",
   "metadata": {},
   "outputs": [
    {
     "name": "stdout",
     "output_type": "stream",
     "text": [
      "1-Sample t-test\n",
      "t통계량:  [3.379]\n",
      "p-value:  [0.008]\n"
     ]
    }
   ],
   "source": [
    "# 1-Sample t-test\n",
    "#귀무가설: 개선활동이 만족도를 변화시키지 못했다.\n",
    "#조건: 평균=78, n=10, 0.05의 유의수준\n",
    "#데이터프레임 생성\n",
    "df = pd.DataFrame({'data':[85,79,79.1,79.9,81.6,78.6,85.4,83.4,78.1,79.2]})\n",
    "x = 78\n",
    "n = 10\n",
    "t_result=stats.ttest_1samp(df,x)\n",
    "#t값과 p값 저장\n",
    "t, p = t_result.statistic.round(3), t_result.pvalue.round(3)\n",
    "#결과 값 출력\n",
    "print(\"1-Sample t-test\")\n",
    "print(\"t통계량: \",t)\n",
    "print(\"p-value: \",p)\n",
    "#p-value가 유의수준보다 크기 때문에 귀무가설을 채택한다\n",
    "#개선활동이 만족도를 변화시키지 못했다"
   ]
  },
  {
   "cell_type": "markdown",
   "id": "22ce9b6a",
   "metadata": {},
   "source": [
    "실습문제5"
   ]
  },
  {
   "cell_type": "code",
   "execution_count": 12,
   "id": "1253d48a",
   "metadata": {},
   "outputs": [
    {
     "name": "stdout",
     "output_type": "stream",
     "text": [
      "A의 정규성은\n",
      "statistic=0.8425754904747009, p-value=0.08004532009363174\n",
      "B의 정규성은\n",
      "statistic=0.7734811902046204, p-value=0.014793740585446358\n"
     ]
    },
    {
     "data": {
      "text/plain": [
       "BartlettResult(statistic=0.42411436523132123, pvalue=0.5148911629500761)"
      ]
     },
     "execution_count": 12,
     "metadata": {},
     "output_type": "execute_result"
    },
    {
     "data": {
      "image/png": "[encoded data removed]",
      "text/plain": [
       "<Figure size 640x480 with 1 Axes>"
      ]
     },
     "metadata": {},
     "output_type": "display_data"
    }
   ],
   "source": [
    "# 2-Sample t-test: 두 집단 간 평균이 같은지 비교한다\n",
    "#귀무가설: A공급자와 B공급자의 제품 두께에 차이가 없다\n",
    "#조건: n=8, 유의수준=0.05\n",
    "#데이터 프레임 생성\n",
    "df = pd.DataFrame({'A':[1.883,1.715,1.799,1.768,1.711,1.832,1.427,1.344],\n",
    "                 'B':[1.435,1.572,1.486,1.511,1.457,1.548,1.404,1.883]})\n",
    "#그룹별 boxplot\n",
    "df.boxplot(['A','B'])\n",
    "#A,B 정규성 검정: Shapiro-Wilk Test\n",
    "statistic, p = stats.shapiro(df['A'])\n",
    "print('A의 정규성은')\n",
    "print(\"statistic={}, p-value={}\".format(statistic,p))\n",
    "statistic, p = stats.shapiro(df['B'])\n",
    "print('B의 정규성은')\n",
    "print(\"statistic={}, p-value={}\".format(statistic,p))\n",
    "#등분산성 검정\n",
    "stats.bartlett(df['A'],df['B'])\n",
    "#p-value가 0.05보다 크기 때문에 등분산성이 만족되어 비교가 가능하다"
   ]
  },
  {
   "cell_type": "code",
   "execution_count": 13,
   "id": "3a3ad547",
   "metadata": {},
   "outputs": [
    {
     "name": "stdout",
     "output_type": "stream",
     "text": [
      "2-Sample t-test \n",
      " t: 1.7 \n",
      " p: 0.111\n"
     ]
    }
   ],
   "source": [
    "#2-Sample t-test\n",
    "t_result = stats.ttest_ind(df['A'],df['B'])\n",
    "#2-Sample t-test의 t값 p값 저장\n",
    "t, p = t_result.statistic.round(3), t_result.pvalue.round(3)\n",
    "#t, p 값 출력\n",
    "print(\"2-Sample t-test \\n t: {} \\n p: {}\".format(t,p))\n",
    "#p값이 유의수준보다 작기 때문에 대립가설을 채택한다\n",
    "#그러므로 공급자간에 차이가 존재한다"
   ]
  },
  {
   "cell_type": "markdown",
   "id": "2a5d4031",
   "metadata": {},
   "source": [
    "실습문제6"
   ]
  },
  {
   "cell_type": "code",
   "execution_count": 14,
   "id": "105fa174",
   "metadata": {},
   "outputs": [
    {
     "name": "stdout",
     "output_type": "stream",
     "text": [
      "Paired t-test \n",
      " t:-2.266 \n",
      " p:0.0497\n"
     ]
    }
   ],
   "source": [
    "#Paired t-test\n",
    "#조건: n=10\n",
    "#귀무가설: 회사원들의 성적은 학원가기 전후에 차이가 없다\n",
    "#데이터 프레임 생성\n",
    "df = pd.DataFrame({'before':[720,589,780,648,720,589,780,648,780,648],\n",
    "                   'after':[710,580,787,712,750,600,782,670,790,680]})\n",
    "#paired t-test\n",
    "t_result = stats.ttest_rel(df['before'],df['after'])\n",
    "#paired t-test의 t, p 값 저장\n",
    "t, p = t_result.statistic.round(3), t_result.pvalue.round(4)\n",
    "print(\"Paired t-test \\n t:{} \\n p:{}\".format(t,p))\n",
    "#p-value 값이 유의수준 이하이기 때문에 대립가설을 채택한다\n",
    "#그러므로 학원가기 전후에 대해 차이가 있다"
   ]
  },
  {
   "cell_type": "markdown",
   "id": "31bad46e",
   "metadata": {},
   "source": [
    "실습문제7"
   ]
  },
  {
   "cell_type": "code",
   "execution_count": 15,
   "id": "555599f5",
   "metadata": {},
   "outputs": [],
   "source": [
    "from statsmodels.stats.proportion import proportions_ztest"
   ]
  },
  {
   "cell_type": "code",
   "execution_count": 16,
   "id": "77baf98f",
   "metadata": {},
   "outputs": [
    {
     "name": "stdout",
     "output_type": "stream",
     "text": [
      "1 Proprotion test \n",
      " z:-2.0412414523193148 \n",
      " p:0.0412268333371637\n"
     ]
    }
   ],
   "source": [
    "#Proportion test\n",
    "#조건: 확률:0.5, n=100 , 사건관측회수=60\n",
    "#귀무가설: 동전은 정상이다 -> 'p=0.5' 이다\n",
    "#변수 선언\n",
    "count = 40\n",
    "n_obs = 100\n",
    "value = 0.5\n",
    "#Proportion test 실행\n",
    "stat, pval = proportions_ztest(count, n_obs, value)\n",
    "#결과 출력\n",
    "print(\"1 Proprotion test \\n z:{} \\n p:{}\".format(stat,pval))\n",
    "#p-value 값이 유의수준 이하이기 때문에 대립가설을 채택한다\n",
    "#그러므로 동전이 비정상이다"
   ]
  },
  {
   "cell_type": "markdown",
   "id": "7dccff79",
   "metadata": {},
   "source": [
    "실습문제8"
   ]
  },
  {
   "cell_type": "code",
   "execution_count": 17,
   "id": "a8a2b774",
   "metadata": {},
   "outputs": [
    {
     "name": "stdout",
     "output_type": "stream",
     "text": [
      "2 Proportion test \n",
      " z:2.0729633895345208 \n",
      " p:0.03817568685216671\n"
     ]
    }
   ],
   "source": [
    "#2 Proportion test\n",
    "#조건1: 공장A, n=1200, x=14\n",
    "#조건2: 공장B, n=1200, x=5\n",
    "#귀무가설: 불량률은 같다 -> 'p1 = p2' 이다\n",
    "#변수 선언\n",
    "count = np.array([14,5])\n",
    "nobs = np.array([1200,1200])\n",
    "#Proportion test 실행\n",
    "stat, pval = proportions_ztest(count, nobs)\n",
    "#결과 출력\n",
    "print(\"2 Proportion test \\n z:{} \\n p:{}\".format(stat,pval))\n",
    "#p-value 값이 유의수준 이하이기 때문에 대립가설을 채택한다\n",
    "#그러므로 두 공장의 불량률은 차이가 있다"
   ]
  },
  {
   "cell_type": "markdown",
   "id": "9e49f0b4",
   "metadata": {},
   "source": [
    "실습문제9"
   ]
  },
  {
   "cell_type": "code",
   "execution_count": 18,
   "id": "28b685d1",
   "metadata": {},
   "outputs": [
    {
     "name": "stdout",
     "output_type": "stream",
     "text": [
      "chi-square test \n",
      " chisq:98.274 \n",
      " p-value:0.000 \n",
      " degree pf freedom:30 \n",
      " expected value: \n",
      " [[11.004  8.21   5.24   3.843  1.921  9.782]\n",
      " [ 8.528  6.362  4.061  2.978  1.489  7.581]\n",
      " [10.454  7.799  4.978  3.651  1.825  9.293]\n",
      " [ 8.253  6.157  3.93   2.882  1.441  7.336]\n",
      " [ 7.978  5.952  3.799  2.786  1.393  7.092]\n",
      " [ 8.803  6.568  4.192  3.074  1.537  7.825]\n",
      " [ 7.978  5.952  3.799  2.786  1.393  7.092]]\n"
     ]
    }
   ],
   "source": [
    "#카이제곱 검정\n",
    "#귀무가설: 각 제품에 대해 이미지에 대한 차이가 없다\n",
    "#데이터프레임 생성\n",
    "df = pd.DataFrame({'A':[18,1,8,7,10,9,10],'B':[8,2,14,5,5,9,4],'C':[4,1,3,4,9,5,4],\n",
    "                   'D':[4,1,2,3,2,7,3],'E':[3,1,3,1,1,1,1],'F':[3,25,8,10,2,1,7]})\n",
    "#chi-square test 실행\n",
    "chi, pval, dof, expected = stats.chi2_contingency(df)\n",
    "#결과 출력\n",
    "print(\"chi-square test \\n chisq:{0:0.3f} \\n p-value:{1:0.3f} \\n degree pf freedom:{2} \\n expected value: \\n {3}\".\n",
    "      format(chi,pval,dof,expected.round(3)))\n",
    "#p-value 값이 유의수준 이하이기 때문에 대립가설을 채택한다\n",
    "#그러므로 각 제품에 대해 이미지에 대한 차이가 존재한다"
   ]
  },
  {
   "cell_type": "markdown",
   "id": "41d12583",
   "metadata": {},
   "source": [
    "실습문제10"
   ]
  },
  {
   "cell_type": "code",
   "execution_count": 19,
   "id": "96fd461a",
   "metadata": {},
   "outputs": [
    {
     "data": {
      "text/html": [
       "<div>\n",
       "<style scoped>\n",
       "    .dataframe tbody tr th:only-of-type {\n",
       "        vertical-align: middle;\n",
       "    }\n",
       "\n",
       "    .dataframe tbody tr th {\n",
       "        vertical-align: top;\n",
       "    }\n",
       "\n",
       "    .dataframe thead th {\n",
       "        text-align: right;\n",
       "    }\n",
       "</style>\n",
       "<table border=\"1\" class=\"dataframe\">\n",
       "  <thead>\n",
       "    <tr style=\"text-align: right;\">\n",
       "      <th></th>\n",
       "      <th>time</th>\n",
       "      <th>charge</th>\n",
       "      <th>gangjong</th>\n",
       "      <th>type</th>\n",
       "    </tr>\n",
       "  </thead>\n",
       "  <tbody>\n",
       "    <tr>\n",
       "      <th>0</th>\n",
       "      <td>32.2</td>\n",
       "      <td>A</td>\n",
       "      <td>a</td>\n",
       "      <td>a</td>\n",
       "    </tr>\n",
       "    <tr>\n",
       "      <th>1</th>\n",
       "      <td>30.4</td>\n",
       "      <td>B</td>\n",
       "      <td>a</td>\n",
       "      <td>a</td>\n",
       "    </tr>\n",
       "    <tr>\n",
       "      <th>2</th>\n",
       "      <td>33.6</td>\n",
       "      <td>C</td>\n",
       "      <td>a</td>\n",
       "      <td>a</td>\n",
       "    </tr>\n",
       "    <tr>\n",
       "      <th>3</th>\n",
       "      <td>36.4</td>\n",
       "      <td>D</td>\n",
       "      <td>a</td>\n",
       "      <td>a</td>\n",
       "    </tr>\n",
       "    <tr>\n",
       "      <th>4</th>\n",
       "      <td>33.9</td>\n",
       "      <td>E</td>\n",
       "      <td>a</td>\n",
       "      <td>a</td>\n",
       "    </tr>\n",
       "  </tbody>\n",
       "</table>\n",
       "</div>"
      ],
      "text/plain": [
       "   time charge gangjong type\n",
       "0  32.2      A        a    a\n",
       "1  30.4      B        a    a\n",
       "2  33.6      C        a    a\n",
       "3  36.4      D        a    a\n",
       "4  33.9      E        a    a"
      ]
     },
     "execution_count": 19,
     "metadata": {},
     "output_type": "execute_result"
    }
   ],
   "source": [
    "#ANOVA\n",
    "#귀무가설: 강종별과 type에 따른 2차 정련 시간에 차이가 없다\n",
    "#데이터 프레임 읽어오기\n",
    "df = pd.read_csv('/home/piai/바탕화면/1 Big Data 분석 기초/ANOVA.csv')\n",
    "df.head()"
   ]
  },
  {
   "cell_type": "code",
   "execution_count": 20,
   "id": "da5cfae4",
   "metadata": {},
   "outputs": [
    {
     "data": {
      "image/png": "[encoded data removed]",
      "text/plain": [
       "<Figure size 640x480 with 1 Axes>"
      ]
     },
     "metadata": {},
     "output_type": "display_data"
    },
    {
     "data": {
      "image/png": "[encoded data removed]",
      "text/plain": [
       "<Figure size 640x480 with 1 Axes>"
      ]
     },
     "metadata": {},
     "output_type": "display_data"
    }
   ],
   "source": [
    "import matplotlib.pyplot as plt\n",
    "#그룹별 boxplot\n",
    "df = df[['time','gangjong','type']]\n",
    "df.boxplot('time','gangjong')\n",
    "df.boxplot('time','type')\n",
    "plt.show()"
   ]
  },
  {
   "cell_type": "code",
   "execution_count": 21,
   "id": "e34fea1f",
   "metadata": {},
   "outputs": [
    {
     "name": "stdout",
     "output_type": "stream",
     "text": [
      "강종 a의 정규성 검정\n",
      "statistic=0.9879403114318848, p-value=0.983557939529419\n",
      "강종 b의 정규성 검정\n",
      "statistic=0.9769707918167114, p-value=0.9355478286743164\n",
      "강종 c의 정규성 검정\n",
      "statistic=0.8929420113563538, p-value=0.3338908553123474\n",
      "강종 d의 정규성 검정\n",
      "statistic=0.9713904857635498, p-value=0.901641845703125\n",
      "\n",
      "LeveneResult(statistic=0.9417495009041227, pvalue=0.4390899931524723)\n",
      "\n",
      "One-way \n",
      " F 통계량: 4.172 \n",
      " p-value: 0.019\n"
     ]
    }
   ],
   "source": [
    "#강종별 정규성 검정: Shapiro-Wilk Test\n",
    "statistic, p = stats.shapiro(df[df['gangjong']=='a']['time'])\n",
    "print('강종 a의 정규성 검정')\n",
    "print(\"statistic={}, p-value={}\".format(statistic, p))\n",
    "statistic, p = stats.shapiro(df[df['gangjong']=='b']['time'])\n",
    "print('강종 b의 정규성 검정')\n",
    "print(\"statistic={}, p-value={}\".format(statistic, p))\n",
    "statistic, p = stats.shapiro(df[df['gangjong']=='c']['time'])\n",
    "print('강종 c의 정규성 검정')\n",
    "print(\"statistic={}, p-value={}\".format(statistic, p))\n",
    "statistic, p = stats.shapiro(df[df['gangjong']=='d']['time'])\n",
    "print('강종 d의 정규성 검정')\n",
    "print(\"statistic={}, p-value={}\".format(statistic, p))\n",
    "#강종 a,b,c는 유의수준 이상이므로 정규성을 충족한다\n",
    "#강종별 등분산성 검정: Leven Test\n",
    "print()\n",
    "print(stats.levene(df[df['gangjong']=='a']['time'],df[df['gangjong']=='b']['time'],df[df['gangjong']=='c']['time'],df[df['gangjong']=='d']['time']))\n",
    "#p-value가 0.05 이상이므로 등분산성을 충족한다\n",
    "#ANOVA 실행\n",
    "f_result = stats.f_oneway(df[df['gangjong']=='a']['time'],df[df['gangjong']=='b']['time'],df[df['gangjong']=='c']['time'],df[df['gangjong']=='d']['time'])\n",
    "#ANOVA의 f,p 값 저장\n",
    "f, p = f_result.statistic.round(3), f_result.pvalue.round(3)\n",
    "print()\n",
    "print(\"One-way \\n F 통계량: {} \\n p-value: {}\".format(f,p))\n",
    "#p-value가 유의수준 이상이므로 귀무가설을 채택한다\n",
    "#강종별 2차 정련 시간에 차이가 없다"
   ]
  },
  {
   "cell_type": "code",
   "execution_count": 22,
   "id": "64e5aace",
   "metadata": {},
   "outputs": [
    {
     "name": "stdout",
     "output_type": "stream",
     "text": [
      "타입 a의 정규성 검정\n",
      "statistic=0.982139527797699, p-value=0.9907686114311218\n",
      "타입 b의 정규성 검정\n",
      "statistic=0.9098271131515503, p-value=0.2122616022825241\n",
      "\n",
      "LeveneResult(statistic=2.1557191195451235, pvalue=0.1561933555382328)\n",
      "\n",
      "One-way \n",
      " F 통계량: 9.654 \n",
      " p-value: 0.0051\n"
     ]
    }
   ],
   "source": [
    "#타입별 정규성 검정: Shapiro-Wilk Test\n",
    "statistic, p = stats.shapiro(df[df['type']=='a']['time'])\n",
    "print('타입 a의 정규성 검정')\n",
    "print(\"statistic={}, p-value={}\".format(statistic, p))\n",
    "statistic, p = stats.shapiro(df[df['type']=='b']['time'])\n",
    "print('타입 b의 정규성 검정')\n",
    "print(\"statistic={}, p-value={}\".format(statistic, p))\n",
    "#타입 a,b는 유의수준 이상이므로 정규성을 충족한다\n",
    "#타입별 등분산성 검정: Leven Test\n",
    "print()\n",
    "print(stats.levene(df[df['type']=='a']['time'],df[df['type']=='b']['time']))\n",
    "#p-value가 0.05 이상이므로 등분산성을 충족한다\n",
    "#ANOVA 실행\n",
    "f_result = stats.f_oneway(df[df['type']=='a']['time'],df[df['type']=='b']['time'])\n",
    "#ANOVA의 f,p 값 저장\n",
    "f, p = f_result.statistic.round(3), f_result.pvalue.round(4)\n",
    "print()\n",
    "print(\"One-way \\n F 통계량: {} \\n p-value: {}\".format(f,p))\n",
    "#p-value가 유의수준 이상이므로 귀무가설을 채택한다\n",
    "#타입별 2차 정련 시간에 차이가 없다"
   ]
  },
  {
   "cell_type": "markdown",
   "id": "bf006ed2",
   "metadata": {},
   "source": [
    "실습문제11"
   ]
  },
  {
   "cell_type": "code",
   "execution_count": 23,
   "id": "5af09baa",
   "metadata": {},
   "outputs": [
    {
     "name": "stdout",
     "output_type": "stream",
     "text": [
      "Correlation Analysis \n",
      " corr:-0.7151827488780785 \n",
      " p-value:0.0003934365837041942\n"
     ]
    }
   ],
   "source": [
    "#Correlation Analysis\n",
    "#귀무가설: 초코칩의 강도와 재료 반죽온도간에 관계가 없다\n",
    "#데이터프레임 생성\n",
    "df = pd.DataFrame({'strength':[37.6,38.6,37.2,36.4,38.6,39,37.2,36.1,35.9,37.1,36.9,37.5,36.6,38.1,39,36.9,36.8,37.6,33,33.5],\n",
    "                  'temperature':[14,15,14,16,17,14,17,16,15,16,14,16,18,13,15,17,14,16,20,21]})\n",
    "#Correlation Analysis 실행\n",
    "corr, pval = stats.pearsonr(df['strength'],df['temperature'])\n",
    "#결과 출력\n",
    "print(\"Correlation Analysis \\n corr:{} \\n p-value:{}\".format(corr,pval))\n",
    "#p-value값이 유의수준 이하이기 때문에 대립가설을 채택한다\n",
    "#초코칩의 강도와 재료 반죽온도간에 상관관계가 있다\n",
    "#corr이 -0.7이기 때문에 음의 상관관계가 있다"
   ]
  }
 ],
 "metadata": {
  "kernelspec": {
   "display_name": "Python 3 (ipykernel)",
   "language": "python",
   "name": "python3"
  },
  "language_info": {
   "codemirror_mode": {
    "name": "ipython",
    "version": 3
   },
   "file_extension": ".py",
   "mimetype": "text/x-python",
   "name": "python",
   "nbconvert_exporter": "python",
   "pygments_lexer": "ipython3",
   "version": "3.9.13"
  }
 },
 "nbformat": 4,
 "nbformat_minor": 5
}
